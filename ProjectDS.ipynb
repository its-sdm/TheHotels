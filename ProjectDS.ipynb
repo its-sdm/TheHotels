{
  "nbformat": 4,
  "nbformat_minor": 0,
  "metadata": {
    "colab": {
      "provenance": [],
      "authorship_tag": "ABX9TyMz3R9r5QKipJT4oPSrJ7sK",
      "include_colab_link": true
    },
    "kernelspec": {
      "name": "python3",
      "display_name": "Python 3"
    },
    "language_info": {
      "name": "python"
    }
  },
  "cells": [
    {
      "cell_type": "markdown",
      "metadata": {
        "id": "view-in-github",
        "colab_type": "text"
      },
      "source": [
        "<a href=\"https://colab.research.google.com/github/its-sdm/TheHotels/blob/master/ProjectDS.ipynb\" target=\"_parent\"><img src=\"https://colab.research.google.com/assets/colab-badge.svg\" alt=\"Open In Colab\"/></a>"
      ]
    },
    {
      "cell_type": "markdown",
      "source": [
        "# Data Science Notebook"
      ],
      "metadata": {
        "id": "OF_Fzo7yj9AH"
      }
    },
    {
      "cell_type": "markdown",
      "source": [
        "## Introduction\n",
        "Welcome to this data science notebook. In this notebook, we will explore various data science concepts, languages, libraries, and tools. We will also perform arithmetic operations and demonstrate code examples. Let's get started!"
      ],
      "metadata": {
        "id": "oI4QqJLej98G"
      }
    },
    {
      "cell_type": "markdown",
      "source": [
        "## Data Science Languages\n",
        "- Python\n",
        "- R\n",
        "- Julia\n",
        "- SQL\n",
        "- Scala"
      ],
      "metadata": {
        "id": "tlcGNl28kBh9"
      }
    },
    {
      "cell_type": "markdown",
      "source": [
        "## Data Science Libraries\n",
        "- NumPy\n",
        "- Pandas\n",
        "- Matplotlib\n",
        "- Scikit-learn\n",
        "- TensorFlow\n",
        "- PyTorch\n",
        "- ggplot"
      ],
      "metadata": {
        "id": "iFp2llBckFMO"
      }
    },
    {
      "cell_type": "markdown",
      "source": [
        "## Data Science Tools\n",
        "\n",
        "| Category     | Tools               |\n",
        "|--------------|---------------------|\n",
        "| Programming  | Python, R, Julia    |\n",
        "| Data Wrangling | Pandas, dplyr, SQL |\n",
        "| Visualization | Matplotlib, ggplot |\n",
        "| Machine Learning | Scikit-learn, TensorFlow, PyTorch |"
      ],
      "metadata": {
        "id": "6658oJH4kICj"
      }
    },
    {
      "cell_type": "markdown",
      "source": [
        "## Arithmetic Expression Examples\n",
        "In the following code cells, we will demonstrate some arithmetic operations using variables and numbers."
      ],
      "metadata": {
        "id": "DBwJIhEekKRB"
      }
    },
    {
      "cell_type": "code",
      "source": [
        "# Multiply and Add Numbers\n",
        "num1 = 5\n",
        "num2 = 10\n",
        "\n",
        "multiply_result = num1 * num2\n",
        "add_result = num1 + num2\n",
        "\n",
        "multiply_result, add_result"
      ],
      "metadata": {
        "colab": {
          "base_uri": "https://localhost:8080/"
        },
        "id": "B3FT1IW3kNg2",
        "outputId": "bb35133f-be9b-48cb-f98a-4415747cbdcf"
      },
      "execution_count": 1,
      "outputs": [
        {
          "output_type": "execute_result",
          "data": {
            "text/plain": [
              "(50, 15)"
            ]
          },
          "metadata": {},
          "execution_count": 1
        }
      ]
    },
    {
      "cell_type": "code",
      "source": [
        "# Convert Minutes to Hours\n",
        "minutes = 120\n",
        "\n",
        "hours = minutes / 60\n",
        "\n",
        "hours"
      ],
      "metadata": {
        "colab": {
          "base_uri": "https://localhost:8080/"
        },
        "id": "rg2CEI9gkQ60",
        "outputId": "c6ff9fc3-4e72-40bf-aeda-157d239f52ec"
      },
      "execution_count": 2,
      "outputs": [
        {
          "output_type": "execute_result",
          "data": {
            "text/plain": [
              "2.0"
            ]
          },
          "metadata": {},
          "execution_count": 2
        }
      ]
    },
    {
      "cell_type": "markdown",
      "source": [
        "## Objectives\n",
        "- Explore data science concepts and languages\n",
        "- Use data science libraries for analysis and visualization\n",
        "- Perform arithmetic operations using variables and numbers\n",
        "- Convert units of time"
      ],
      "metadata": {
        "id": "zb6hfNQNkV6C"
      }
    },
    {
      "cell_type": "markdown",
      "source": [
        "## Author\n",
        "Sadeem Alyousef"
      ],
      "metadata": {
        "id": "I4ZgcrwhkYX3"
      }
    }
  ]
}